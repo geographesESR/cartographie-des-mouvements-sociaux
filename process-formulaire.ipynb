{
 "cells": [
  {
   "cell_type": "code",
   "execution_count": 43,
   "metadata": {},
   "outputs": [],
   "source": [
    "# Import des librairies\n",
    "import json\n",
    "import pandas as pd\n",
    "import geojson"
   ]
  },
  {
   "cell_type": "code",
   "execution_count": 44,
   "metadata": {},
   "outputs": [],
   "source": [
    "df = pd.read_csv(\"data.csv\")  # import\n",
    "df.drop(axis = 0, columns=[\"Captcha\"], inplace=True) # suppression des captchas"
   ]
  },
  {
   "cell_type": "code",
   "execution_count": 45,
   "metadata": {},
   "outputs": [],
   "source": [
    "# source : https://gis.stackexchange.com/a/221040\n",
    "def data2geojson(df):\n",
    "    features = []\n",
    "    insert_features = lambda X: features.append(\n",
    "            geojson.Feature(geometry=geojson.Point((X[\"Longitude\"],\n",
    "                                                    X[\"Latitude\"])),\n",
    "                            properties=dict(identifiant=X[\"Id\"],\n",
    "                                            typologie=X[\"Type\"],\n",
    "                                            titre=X[\"Titre\"],\n",
    "                                            organisateur=X[\"Organisateur\"],\n",
    "                                            description=X[\"Description\"],\n",
    "                                            start=X[\"Date de début\"],\n",
    "                                            end=X[\"Date de fin\"],\n",
    "                                            information=X[\"Information\"])))\n",
    "    \n",
    "    df.apply(insert_features, axis=1)\n",
    "    with open('mobilisation-pour-ukraine.geojson', 'w', encoding='utf8') as fp:\n",
    "        geojson.dump(geojson.FeatureCollection(features), fp, sort_keys=True, ensure_ascii=False)"
   ]
  },
  {
   "cell_type": "code",
   "execution_count": 46,
   "metadata": {},
   "outputs": [],
   "source": [
    "data2geojson(df)"
   ]
  },
  {
   "cell_type": "code",
   "execution_count": null,
   "metadata": {},
   "outputs": [],
   "source": [
    "# Transformation en GEOJSON\n",
    "# Source : https://stackoverflow.com/a/47325088\n",
    "\n",
    "# columns used for constructing geojson object\n",
    "features = df.apply(\n",
    "    lambda row: Feature(geometry=Point((float(row['Longitude']), float(row['Latitude'])))),\n",
    "    axis=1).tolist()\n",
    "\n",
    "# all the other columns used as properties\n",
    "properties = df.drop(['Latitude', 'Longitude'], axis=1).to_dict('records')\n",
    "\n",
    "# whole geojson object\n",
    "feature_collection = FeatureCollection(features=features, properties=properties)\n",
    "\n",
    "# export\n",
    "with open('ukraine.geojson', 'w', encoding='utf-8') as f:\n",
    "    json.dump(feature_collection, f, ensure_ascii=False)"
   ]
  }
 ],
 "metadata": {
  "kernelspec": {
   "display_name": "Python 3",
   "language": "python",
   "name": "python3"
  },
  "language_info": {
   "codemirror_mode": {
    "name": "ipython",
    "version": 3
   },
   "file_extension": ".py",
   "mimetype": "text/x-python",
   "name": "python",
   "nbconvert_exporter": "python",
   "pygments_lexer": "ipython3",
   "version": "3.9.10"
  }
 },
 "nbformat": 4,
 "nbformat_minor": 4
}
