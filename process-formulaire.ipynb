{
 "cells": [
  {
   "cell_type": "code",
   "execution_count": null,
   "metadata": {},
   "outputs": [],
   "source": [
    "# Import des librairies\n",
    "import json\n",
    "import pandas as pd\n",
    "import geojson"
   ]
  },
  {
   "cell_type": "code",
   "execution_count": null,
   "metadata": {},
   "outputs": [],
   "source": [
    "df = pd.read_csv(\"data.csv\")  # import\n",
    "df.drop(axis = 0, columns=[\"Captcha\"], inplace=True) # suppression des captchas"
   ]
  },
  {
   "cell_type": "code",
   "execution_count": null,
   "metadata": {},
   "outputs": [],
   "source": [
    "# Fonction de transformation du DataFrame en GEOJSON\n",
    "# source : https://gis.stackexchange.com/a/221040\n",
    "def data2geojson(df):\n",
    "    features = []\n",
    "    insert_features = lambda X: features.append(\n",
    "            geojson.Feature(geometry=geojson.Point((X[\"Longitude\"],\n",
    "                                                    X[\"Latitude\"])),\n",
    "                            properties=dict(ID=X[\"Id\"],\n",
    "                                            Type=X[\"Type\"],\n",
    "                                            Titre=X[\"Titre\"],\n",
    "                                            Organisateur=X[\"Organisateur\"],\n",
    "                                            Description=X[\"Description\"],\n",
    "                                            Début=X[\"Date de début\"],\n",
    "                                            Fin=X[\"Date de fin\"],\n",
    "                                            Information=X[\"Information\"])))\n",
    "    \n",
    "    df.apply(insert_features, axis=1)\n",
    "    with open('mobilisation-pour-ukraine.geojson', 'w', encoding='utf8') as fp:\n",
    "        geojson.dump(geojson.FeatureCollection(features), fp, sort_keys=False, ensure_ascii=False)"
   ]
  },
  {
   "cell_type": "code",
   "execution_count": null,
   "metadata": {},
   "outputs": [],
   "source": [
    "# Emploi de la fonction\n",
    "data2geojson(df)"
   ]
  }
 ],
 "metadata": {
  "kernelspec": {
   "display_name": "Python 3",
   "language": "python",
   "name": "python3"
  },
  "language_info": {
   "codemirror_mode": {
    "name": "ipython",
    "version": 3
   },
   "file_extension": ".py",
   "mimetype": "text/x-python",
   "name": "python",
   "nbconvert_exporter": "python",
   "pygments_lexer": "ipython3",
   "version": "3.9.10"
  }
 },
 "nbformat": 4,
 "nbformat_minor": 4
}
